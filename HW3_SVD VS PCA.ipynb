{
 "cells": [
  {
   "cell_type": "markdown",
   "metadata": {
    "collapsed": true
   },
   "source": [
    "# 105024519 許閔翔\n",
    "## 應用多變量分析 HW3 SVD VS PCA"
   ]
  },
  {
   "cell_type": "code",
   "execution_count": 1,
   "metadata": {
    "collapsed": true
   },
   "outputs": [],
   "source": [
    "import numpy as np\n",
    "import pandas as pd"
   ]
  },
  {
   "cell_type": "code",
   "execution_count": 2,
   "metadata": {
    "collapsed": false
   },
   "outputs": [
    {
     "name": "stdout",
     "output_type": "stream",
     "text": [
      "Shape of dataset : (7703, 29)\n"
     ]
    },
    {
     "data": {
      "text/html": [
       "<div>\n",
       "<table border=\"1\" class=\"dataframe\">\n",
       "  <thead>\n",
       "    <tr style=\"text-align: right;\">\n",
       "      <th></th>\n",
       "      <th>PREDDEG</th>\n",
       "      <th>HIGHDEG</th>\n",
       "      <th>CONTROL</th>\n",
       "      <th>ST_FIPS</th>\n",
       "      <th>REGION</th>\n",
       "      <th>LATITUDE</th>\n",
       "      <th>LONGITUDE</th>\n",
       "      <th>UGDS</th>\n",
       "      <th>UGDS_WHITE</th>\n",
       "      <th>UGDS_BLACK</th>\n",
       "      <th>...</th>\n",
       "      <th>INC_PCT_H1</th>\n",
       "      <th>INC_PCT_H2</th>\n",
       "      <th>PAR_ED_PCT_HS</th>\n",
       "      <th>PAR_ED_PCT_PS</th>\n",
       "      <th>FEMALE</th>\n",
       "      <th>MARRIED</th>\n",
       "      <th>DEPENDENT</th>\n",
       "      <th>VETERAN</th>\n",
       "      <th>UGDS_MEN</th>\n",
       "      <th>UGDS_WOMEN</th>\n",
       "    </tr>\n",
       "  </thead>\n",
       "  <tbody>\n",
       "    <tr>\n",
       "      <th>1</th>\n",
       "      <td>3</td>\n",
       "      <td>4</td>\n",
       "      <td>3</td>\n",
       "      <td>4</td>\n",
       "      <td>6</td>\n",
       "      <td>33.402250</td>\n",
       "      <td>-111.966181</td>\n",
       "      <td>151558</td>\n",
       "      <td>0.3098</td>\n",
       "      <td>0.1555</td>\n",
       "      <td>...</td>\n",
       "      <td>0.032588</td>\n",
       "      <td>0.016600</td>\n",
       "      <td>0.483579</td>\n",
       "      <td>0.458333</td>\n",
       "      <td>0.697885</td>\n",
       "      <td>0.294515</td>\n",
       "      <td>0.087442</td>\n",
       "      <td>0.030455</td>\n",
       "      <td>0.3120</td>\n",
       "      <td>0.6880</td>\n",
       "    </tr>\n",
       "    <tr>\n",
       "      <th>2</th>\n",
       "      <td>1</td>\n",
       "      <td>2</td>\n",
       "      <td>1</td>\n",
       "      <td>18</td>\n",
       "      <td>3</td>\n",
       "      <td>39.803753</td>\n",
       "      <td>-86.158213</td>\n",
       "      <td>77657</td>\n",
       "      <td>0.7054</td>\n",
       "      <td>0.1523</td>\n",
       "      <td>...</td>\n",
       "      <td>0.051237</td>\n",
       "      <td>0.021793</td>\n",
       "      <td>0.460716</td>\n",
       "      <td>0.491131</td>\n",
       "      <td>0.610000</td>\n",
       "      <td>0.168002</td>\n",
       "      <td>0.412306</td>\n",
       "      <td>0.011384</td>\n",
       "      <td>0.4051</td>\n",
       "      <td>0.5949</td>\n",
       "    </tr>\n",
       "    <tr>\n",
       "      <th>3</th>\n",
       "      <td>2</td>\n",
       "      <td>3</td>\n",
       "      <td>1</td>\n",
       "      <td>12</td>\n",
       "      <td>5</td>\n",
       "      <td>25.777717</td>\n",
       "      <td>-80.190856</td>\n",
       "      <td>61470</td>\n",
       "      <td>0.0599</td>\n",
       "      <td>0.1657</td>\n",
       "      <td>...</td>\n",
       "      <td>0.009800</td>\n",
       "      <td>0.003386</td>\n",
       "      <td>0.440310</td>\n",
       "      <td>0.499123</td>\n",
       "      <td>0.578968</td>\n",
       "      <td>0.101984</td>\n",
       "      <td>0.687035</td>\n",
       "      <td>0.006174</td>\n",
       "      <td>0.4220</td>\n",
       "      <td>0.5780</td>\n",
       "    </tr>\n",
       "    <tr>\n",
       "      <th>4</th>\n",
       "      <td>2</td>\n",
       "      <td>2</td>\n",
       "      <td>1</td>\n",
       "      <td>48</td>\n",
       "      <td>6</td>\n",
       "      <td>30.188408</td>\n",
       "      <td>-95.490077</td>\n",
       "      <td>59920</td>\n",
       "      <td>0.3226</td>\n",
       "      <td>0.1892</td>\n",
       "      <td>...</td>\n",
       "      <td>0.040525</td>\n",
       "      <td>0.020516</td>\n",
       "      <td>0.446696</td>\n",
       "      <td>0.477633</td>\n",
       "      <td>0.625118</td>\n",
       "      <td>0.141618</td>\n",
       "      <td>0.463693</td>\n",
       "      <td>0.008098</td>\n",
       "      <td>0.4067</td>\n",
       "      <td>0.5933</td>\n",
       "    </tr>\n",
       "    <tr>\n",
       "      <th>5</th>\n",
       "      <td>2</td>\n",
       "      <td>2</td>\n",
       "      <td>1</td>\n",
       "      <td>48</td>\n",
       "      <td>6</td>\n",
       "      <td>29.737303</td>\n",
       "      <td>-95.376524</td>\n",
       "      <td>58084</td>\n",
       "      <td>0.1430</td>\n",
       "      <td>0.3182</td>\n",
       "      <td>...</td>\n",
       "      <td>0.021641</td>\n",
       "      <td>0.012542</td>\n",
       "      <td>0.421387</td>\n",
       "      <td>0.494151</td>\n",
       "      <td>0.598173</td>\n",
       "      <td>0.124644</td>\n",
       "      <td>0.454558</td>\n",
       "      <td>0.007061</td>\n",
       "      <td>0.4164</td>\n",
       "      <td>0.5836</td>\n",
       "    </tr>\n",
       "  </tbody>\n",
       "</table>\n",
       "<p>5 rows × 29 columns</p>\n",
       "</div>"
      ],
      "text/plain": [
       "   PREDDEG  HIGHDEG  CONTROL  ST_FIPS  REGION   LATITUDE   LONGITUDE    UGDS  \\\n",
       "1        3        4        3        4       6  33.402250 -111.966181  151558   \n",
       "2        1        2        1       18       3  39.803753  -86.158213   77657   \n",
       "3        2        3        1       12       5  25.777717  -80.190856   61470   \n",
       "4        2        2        1       48       6  30.188408  -95.490077   59920   \n",
       "5        2        2        1       48       6  29.737303  -95.376524   58084   \n",
       "\n",
       "   UGDS_WHITE  UGDS_BLACK     ...      INC_PCT_H1  INC_PCT_H2  PAR_ED_PCT_HS  \\\n",
       "1      0.3098      0.1555     ...        0.032588    0.016600       0.483579   \n",
       "2      0.7054      0.1523     ...        0.051237    0.021793       0.460716   \n",
       "3      0.0599      0.1657     ...        0.009800    0.003386       0.440310   \n",
       "4      0.3226      0.1892     ...        0.040525    0.020516       0.446696   \n",
       "5      0.1430      0.3182     ...        0.021641    0.012542       0.421387   \n",
       "\n",
       "   PAR_ED_PCT_PS    FEMALE   MARRIED  DEPENDENT   VETERAN  UGDS_MEN  \\\n",
       "1       0.458333  0.697885  0.294515   0.087442  0.030455    0.3120   \n",
       "2       0.491131  0.610000  0.168002   0.412306  0.011384    0.4051   \n",
       "3       0.499123  0.578968  0.101984   0.687035  0.006174    0.4220   \n",
       "4       0.477633  0.625118  0.141618   0.463693  0.008098    0.4067   \n",
       "5       0.494151  0.598173  0.124644   0.454558  0.007061    0.4164   \n",
       "\n",
       "   UGDS_WOMEN  \n",
       "1      0.6880  \n",
       "2      0.5949  \n",
       "3      0.5780  \n",
       "4      0.5933  \n",
       "5      0.5836  \n",
       "\n",
       "[5 rows x 29 columns]"
      ]
     },
     "execution_count": 2,
     "metadata": {},
     "output_type": "execute_result"
    }
   ],
   "source": [
    "### 利用 R-package\"mice\" 補上 missing value，\n",
    "### 但是仍有無法填補的值以及整欄皆為missing value的欄位，所以將其刪除。 \n",
    "### import complete dataset.\n",
    "df = pd.read_csv('anova_com.csv')\n",
    "del df[\"Unnamed: 0\"]\n",
    "df_n = df.dropna(axis = 0)\n",
    "print(\"Shape of dataset :\", df.shape)\n",
    "df_n.head()"
   ]
  },
  {
   "cell_type": "markdown",
   "metadata": {},
   "source": [
    "# Topic1: 將G3,G4,G5,G6的資料(X)標準化(Z)後做svd分解"
   ]
  },
  {
   "cell_type": "code",
   "execution_count": 3,
   "metadata": {
    "collapsed": false
   },
   "outputs": [
    {
     "name": "stdout",
     "output_type": "stream",
     "text": [
      "USV' = Z ? True\n",
      "U.shape (100, 100)\n",
      "S.shape (100, 22)\n",
      "V.shape (22, 22)\n",
      "\n",
      "Eigenvalues: \n",
      "[  3.01126459e+01   2.06755755e+01   1.43558282e+01   1.23792377e+01\n",
      "   1.09385335e+01   9.60290175e+00   8.77581561e+00   7.47013900e+00\n",
      "   6.36821249e+00   6.16112295e+00   4.85035494e+00   4.62600090e+00\n",
      "   3.33460765e+00   2.96384686e+00   2.57032525e+00   2.19212293e+00\n",
      "   1.79375130e+00   1.22741157e+00   1.07487752e+00   1.04586954e+00\n",
      "   7.81989284e-09   7.27537095e-15]\n"
     ]
    }
   ],
   "source": [
    "from sklearn.preprocessing import StandardScaler\n",
    "\n",
    "# Select Featrues in G3, G4, G5, G6\n",
    "X = df_n.iloc[:100, 7:]\n",
    "\n",
    "# Z-normalize df_num\n",
    "sc = StandardScaler()\n",
    "Z = sc.fit_transform(X)\n",
    "\n",
    "# SVD\n",
    "U, s, V = np.linalg.svd(Z, full_matrices = True)\n",
    "S = np.zeros((100, 22), dtype=complex)\n",
    "S[:22, :22] = np.diag(s)\n",
    "\n",
    "print(\"USV' = Z ?\", np.allclose(Z, np.dot(U, np.dot(S, V))))\n",
    "print('U.shape', U.shape)\n",
    "print('S.shape', S.shape)\n",
    "print('V.shape', V.shape)\n",
    "print('\\nEigenvalues: \\n%s' % s)"
   ]
  },
  {
   "cell_type": "markdown",
   "metadata": {},
   "source": [
    "### 將標準化資料(Z)投影到主要和次要的eigenvector(com1, com2)"
   ]
  },
  {
   "cell_type": "code",
   "execution_count": 4,
   "metadata": {
    "collapsed": false
   },
   "outputs": [
    {
     "data": {
      "text/html": [
       "<div>\n",
       "<table border=\"1\" class=\"dataframe\">\n",
       "  <thead>\n",
       "    <tr style=\"text-align: right;\">\n",
       "      <th></th>\n",
       "      <th>PREDDEG</th>\n",
       "      <th>HIGHDEG</th>\n",
       "      <th>CONTROL</th>\n",
       "      <th>ST_FIPS</th>\n",
       "      <th>REGION</th>\n",
       "      <th>LATITUDE</th>\n",
       "      <th>LONGITUDE</th>\n",
       "      <th>com1</th>\n",
       "      <th>com2</th>\n",
       "    </tr>\n",
       "  </thead>\n",
       "  <tbody>\n",
       "    <tr>\n",
       "      <th>0</th>\n",
       "      <td>4.0</td>\n",
       "      <td>4.0</td>\n",
       "      <td>2.0</td>\n",
       "      <td>50.0</td>\n",
       "      <td>1.0</td>\n",
       "      <td>43.821797</td>\n",
       "      <td>-72.522070</td>\n",
       "      <td>-6.678287</td>\n",
       "      <td>2.579147</td>\n",
       "    </tr>\n",
       "    <tr>\n",
       "      <th>1</th>\n",
       "      <td>3.0</td>\n",
       "      <td>4.0</td>\n",
       "      <td>3.0</td>\n",
       "      <td>4.0</td>\n",
       "      <td>6.0</td>\n",
       "      <td>33.402250</td>\n",
       "      <td>-111.966181</td>\n",
       "      <td>-2.752622</td>\n",
       "      <td>1.137102</td>\n",
       "    </tr>\n",
       "    <tr>\n",
       "      <th>2</th>\n",
       "      <td>1.0</td>\n",
       "      <td>2.0</td>\n",
       "      <td>1.0</td>\n",
       "      <td>18.0</td>\n",
       "      <td>3.0</td>\n",
       "      <td>39.803753</td>\n",
       "      <td>-86.158213</td>\n",
       "      <td>-3.471500</td>\n",
       "      <td>-3.287762</td>\n",
       "    </tr>\n",
       "    <tr>\n",
       "      <th>3</th>\n",
       "      <td>2.0</td>\n",
       "      <td>3.0</td>\n",
       "      <td>1.0</td>\n",
       "      <td>12.0</td>\n",
       "      <td>5.0</td>\n",
       "      <td>25.777717</td>\n",
       "      <td>-80.190856</td>\n",
       "      <td>-3.290220</td>\n",
       "      <td>-0.645537</td>\n",
       "    </tr>\n",
       "    <tr>\n",
       "      <th>4</th>\n",
       "      <td>2.0</td>\n",
       "      <td>2.0</td>\n",
       "      <td>1.0</td>\n",
       "      <td>48.0</td>\n",
       "      <td>6.0</td>\n",
       "      <td>30.188408</td>\n",
       "      <td>-95.490077</td>\n",
       "      <td>-3.858308</td>\n",
       "      <td>-1.470806</td>\n",
       "    </tr>\n",
       "  </tbody>\n",
       "</table>\n",
       "</div>"
      ],
      "text/plain": [
       "   PREDDEG  HIGHDEG  CONTROL  ST_FIPS  REGION   LATITUDE   LONGITUDE  \\\n",
       "0      4.0      4.0      2.0     50.0     1.0  43.821797  -72.522070   \n",
       "1      3.0      4.0      3.0      4.0     6.0  33.402250 -111.966181   \n",
       "2      1.0      2.0      1.0     18.0     3.0  39.803753  -86.158213   \n",
       "3      2.0      3.0      1.0     12.0     5.0  25.777717  -80.190856   \n",
       "4      2.0      2.0      1.0     48.0     6.0  30.188408  -95.490077   \n",
       "\n",
       "       com1      com2  \n",
       "0 -6.678287  2.579147  \n",
       "1 -2.752622  1.137102  \n",
       "2 -3.471500 -3.287762  \n",
       "3 -3.290220 -0.645537  \n",
       "4 -3.858308 -1.470806  "
      ]
     },
     "execution_count": 4,
     "metadata": {},
     "output_type": "execute_result"
    }
   ],
   "source": [
    "from numpy.linalg import linalg\n",
    "\n",
    "# project Z to eigenvector 1 and 2.\n",
    "data_pro = np.dot(Z, V.T[:, :2])\n",
    "data_cat = np.array(df.iloc[:100, :7])\n",
    "result_svd = pd.DataFrame(np.hstack([ data_cat, data_pro ]))\n",
    "result_svd.columns = [\"PREDDEG\", \"HIGHDEG\", \"CONTROL\", \n",
    "                  \"ST_FIPS\", \"REGION\", \"LATITUDE\", \"LONGITUDE\", \n",
    "                  \"com1\", \"com2\"]\n",
    "\n",
    "result_svd.head()"
   ]
  },
  {
   "cell_type": "markdown",
   "metadata": {},
   "source": [
    "# 最後決定將\"CONTROL\"的圖形當作主要想分析討論的主題"
   ]
  },
  {
   "cell_type": "code",
   "execution_count": 5,
   "metadata": {
    "collapsed": false
   },
   "outputs": [
    {
     "data": {
      "image/png": "[encoded data removed]",
      "text/plain": [
       "<matplotlib.figure.Figure at 0x10dbae828>"
      ]
     },
     "metadata": {},
     "output_type": "display_data"
    }
   ],
   "source": [
    "import matplotlib.pyplot as plt\n",
    "import plotly.plotly as py\n",
    "\n",
    "fig, ax = plt.subplots()\n",
    "\n",
    "# 先畫出原本散佈圖的點。\n",
    "data_1 = np.array(result_svd[result_svd.CONTROL == 1])\n",
    "data_2 = np.array(result_svd[result_svd.CONTROL == 2])\n",
    "data_3 = np.array(result_svd[result_svd.CONTROL == 3])\n",
    "ax.scatter(data_1[:, [7]], data_1[:, [8]], color='r', marker='^', alpha=.4)\n",
    "ax.scatter(data_2[:, [7]], data_2[:, [8]], color='b', alpha=.4)\n",
    "ax.scatter(data_3[:, [7]], data_3[:, [8]], color='g', marker='s', alpha=.4)\n",
    "ax.autoscale()\n",
    "\n",
    "plt.title('Scatter_SVD')\n",
    "plt.show()"
   ]
  },
  {
   "cell_type": "markdown",
   "metadata": {},
   "source": [
    ">觀察上圖，<br/>\n",
    "看出種類一的數量最多，並解多半集中在右下角。<br/>\n",
    "而種類二其實算比較分散，但還是大約可以知道都出現在左上。<br/>\n",
    "而第三種則是集中在左中的位置，自成一群。\n",
    "\n",
    ">由此可知到人口數前一百名的學校在\"CONTROL\"的探討中，經過投影之後的資料就可以用視覺化的方式看出分群。\n",
    "這也使資料的維度被大大減少，讓之後要加入討論的新資料就不需要收集全部變數，在計算複雜度上也能減少許多時間跟硬體空間。"
   ]
  },
  {
   "cell_type": "markdown",
   "metadata": {},
   "source": [
    "# Topic2:將百分之九十五信心水準的橢圓畫出"
   ]
  },
  {
   "cell_type": "code",
   "execution_count": 6,
   "metadata": {
    "collapsed": false
   },
   "outputs": [
    {
     "data": {
      "image/png": "[encoded data removed]",
      "text/plain": [
       "<matplotlib.figure.Figure at 0x10fa84da0>"
      ]
     },
     "metadata": {},
     "output_type": "display_data"
    }
   ],
   "source": [
    "import matplotlib as mpl\n",
    "import math\n",
    "\n",
    "fig, ax = plt.subplots()\n",
    "\n",
    "# 先利用另一種方法畫出原本散佈圖的點。\n",
    "data_1 = np.array(result_svd[result_svd.CONTROL == 1])\n",
    "data_2 = np.array(result_svd[result_svd.CONTROL == 2])\n",
    "data_3 = np.array(result_svd[result_svd.CONTROL == 3])\n",
    "ax.scatter(data_1[:, [7]], data_1[:, [8]], color='r', marker='^', alpha=.4)\n",
    "ax.scatter(data_2[:, [7]], data_2[:, [8]], color='b', alpha=.4)\n",
    "ax.scatter(data_3[:, [7]], data_3[:, [8]], color='g', marker='s', alpha=.4)\n",
    "\n",
    "# 找出mean, r_x, r_y，再搭配\"c\"畫出橢圓形。\n",
    "df_pro = pd.DataFrame(data_pro)\n",
    "mean = np.array(df_pro.mean())\n",
    "width = math.sqrt(s[0])*math.sqrt(5.99)\n",
    "height = math.sqrt(s[1])*math.sqrt(5.99)\n",
    "\n",
    "ell = mpl.patches.Ellipse(xy=mean, width=width, height=height, color='r', alpha = 0.2)\n",
    "\n",
    "ax.add_patch(ell)\n",
    "ax.autoscale()\n",
    "\n",
    "plt.title('Scatter_SVD and 95% CR')\n",
    "plt.show()\n"
   ]
  },
  {
   "cell_type": "markdown",
   "metadata": {},
   "source": [
    ">觀察上圖，我們利用95%的信心水準找出c平方的值為5.99，<br/>\n",
    "然後再藉此與我們的主成份與次要成分的eigenvalue畫出橢圓。<br/>\n",
    "然後從一開始取出的資料中我們原本共有100的點，<br/>\n",
    "所以畫出的橢圓可以包涵95%的點，也就是剛好剩餘五個點沒被包含到。\n",
    "\n",
    ">如果之後有別組資料進來，我們也可以利用這個橢圓去比較兩者資料的離散程度。<br/>\n",
    "如果包涵的點比較多代表資料更集中，反之則比較分散。<br/>"
   ]
  },
  {
   "cell_type": "markdown",
   "metadata": {},
   "source": [
    "# Topic3: Do Standardization and PCA"
   ]
  },
  {
   "cell_type": "code",
   "execution_count": 7,
   "metadata": {
    "collapsed": false
   },
   "outputs": [
    {
     "name": "stdout",
     "output_type": "stream",
     "text": [
      "\n",
      "Eigenvalues: \n",
      "[ -1.41177840e-17   8.23635117e-17   1.09384309e-02   1.15536169e-02\n",
      "   1.50653917e-02   3.21754374e-02   4.80540295e-02   6.60657188e-02\n",
      "   8.78438822e-02   1.11196082e-01   2.13998843e-01   2.35259430e-01\n",
      "   3.79594360e-01   4.05541303e-01   5.58029767e-01   7.70149396e-01\n",
      "   9.22157219e-01   1.19651515e+00   1.53245527e+00   2.06089804e+00\n",
      "   4.27479424e+00   9.06771440e+00]\n"
     ]
    }
   ],
   "source": [
    "from sklearn.preprocessing import StandardScaler\n",
    "\n",
    "### Select Featrues in G3, G4, G5, G6\n",
    "X = df_n.iloc[:100, 7:]\n",
    "\n",
    "### Z-normalize data\n",
    "sc = StandardScaler()\n",
    "Z = sc.fit_transform(X)\n",
    "\n",
    "### Estimate the correlation matrix\n",
    "C = np.dot(Z.T, Z) / X.shape[0]\n",
    "\n",
    "eigen_vals, eigen_vecs = np.linalg.eigh(C)\n",
    "\n",
    "print('\\nEigenvalues: \\n%s' % eigen_vals)"
   ]
  },
  {
   "cell_type": "markdown",
   "metadata": {},
   "source": [
    "## 1. 探討一下選出的components擁有多少的解釋能力"
   ]
  },
  {
   "cell_type": "code",
   "execution_count": 8,
   "metadata": {
    "collapsed": false
   },
   "outputs": [
    {
     "data": {
      "image/png": "[encoded data removed]",
      "text/plain": [
       "<matplotlib.figure.Figure at 0x10f947ba8>"
      ]
     },
     "metadata": {},
     "output_type": "display_data"
    }
   ],
   "source": [
    "import matplotlib.pyplot as plt\n",
    "\n",
    "tot = sum(np.abs(eigen_vals))\n",
    "var_exp = [(i / tot) for i in sorted(np.abs(eigen_vals), reverse=True)]\n",
    "cum_var_exp = np.cumsum(var_exp)\n",
    "\n",
    "plt.bar(range(1, eigen_vals.size + 1), var_exp, alpha=0.5, align='center',\n",
    "        label='Individual')\n",
    "plt.step(range(1, eigen_vals.size + 1), cum_var_exp, where='mid',\n",
    "         label='Cumulative')\n",
    "plt.ylabel('Explained variance ratio')\n",
    "plt.xlabel('Principal components')\n",
    "plt.legend(loc='best')\n",
    "\n",
    "plt.tight_layout()\n",
    "#plt.savefig('./output/fig-pca-var-exp.png', dpi=300)\n",
    "plt.show()"
   ]
  },
  {
   "cell_type": "code",
   "execution_count": 9,
   "metadata": {
    "collapsed": false
   },
   "outputs": [
    {
     "name": "stdout",
     "output_type": "stream",
     "text": [
      "Peojection matrix P:\n",
      "[[-0.12348726  0.08688065]\n",
      " [ 0.1839663   0.33723744]\n",
      " [-0.19029407  0.09553675]\n",
      " [-0.14281424 -0.34449766]\n",
      " [ 0.04533508 -0.24426243]\n",
      " [-0.10865841  0.16374512]\n",
      " [-0.13823946  0.04704478]\n",
      " [-0.28057182  0.21131958]\n",
      " [ 0.03603585 -0.39507335]\n",
      " [-0.27822181 -0.22799147]\n",
      " [-0.14701219  0.02866096]\n",
      " [ 0.21950138  0.24251312]\n",
      " [ 0.28553878  0.2177183 ]\n",
      " [ 0.30222496  0.1167041 ]\n",
      " [-0.31109499 -0.0681592 ]\n",
      " [ 0.29069537  0.15925735]\n",
      " [-0.22862874  0.19216368]\n",
      " [-0.21603126  0.3064258 ]\n",
      " [ 0.28057182 -0.21131958]\n",
      " [-0.13215945  0.22932351]\n",
      " [ 0.2059418  -0.12404692]\n",
      " [-0.2059418   0.12404692]]\n"
     ]
    }
   ],
   "source": [
    "# Make a list of (eigenvalue, eigenvector) tuples\n",
    "eigen_pairs = [(np.abs(eigen_vals[i]), eigen_vecs[:,i]) for i in range(len(eigen_vals))]\n",
    "\n",
    "# Sort the (eigenvalue, eigenvector) tuples from high to low\n",
    "eigen_pairs.sort(reverse=True)\n",
    "\n",
    "# calculate projection matrix\n",
    "P = np.hstack((eigen_pairs[0][1][:, np.newaxis],\n",
    "               eigen_pairs[1][1][:, np.newaxis]))\n",
    "print('Peojection matrix P:')\n",
    "print(P)"
   ]
  },
  {
   "cell_type": "markdown",
   "metadata": {},
   "source": [
    "## 2. 利用算出的投影矩陣得到\"維度為二\"的新資料"
   ]
  },
  {
   "cell_type": "code",
   "execution_count": 10,
   "metadata": {
    "collapsed": false
   },
   "outputs": [
    {
     "name": "stdout",
     "output_type": "stream",
     "text": [
      "PCA Data:\n"
     ]
    },
    {
     "data": {
      "text/html": [
       "<div>\n",
       "<table border=\"1\" class=\"dataframe\">\n",
       "  <thead>\n",
       "    <tr style=\"text-align: right;\">\n",
       "      <th></th>\n",
       "      <th>PREDDEG</th>\n",
       "      <th>HIGHDEG</th>\n",
       "      <th>CONTROL</th>\n",
       "      <th>ST_FIPS</th>\n",
       "      <th>REGION</th>\n",
       "      <th>LATITUDE</th>\n",
       "      <th>LONGITUDE</th>\n",
       "      <th>com1</th>\n",
       "      <th>com2</th>\n",
       "    </tr>\n",
       "  </thead>\n",
       "  <tbody>\n",
       "    <tr>\n",
       "      <th>0</th>\n",
       "      <td>4.0</td>\n",
       "      <td>4.0</td>\n",
       "      <td>2.0</td>\n",
       "      <td>50.0</td>\n",
       "      <td>1.0</td>\n",
       "      <td>43.821797</td>\n",
       "      <td>-72.522070</td>\n",
       "      <td>-6.678287</td>\n",
       "      <td>2.579147</td>\n",
       "    </tr>\n",
       "    <tr>\n",
       "      <th>1</th>\n",
       "      <td>3.0</td>\n",
       "      <td>4.0</td>\n",
       "      <td>3.0</td>\n",
       "      <td>4.0</td>\n",
       "      <td>6.0</td>\n",
       "      <td>33.402250</td>\n",
       "      <td>-111.966181</td>\n",
       "      <td>-2.752622</td>\n",
       "      <td>1.137102</td>\n",
       "    </tr>\n",
       "    <tr>\n",
       "      <th>2</th>\n",
       "      <td>1.0</td>\n",
       "      <td>2.0</td>\n",
       "      <td>1.0</td>\n",
       "      <td>18.0</td>\n",
       "      <td>3.0</td>\n",
       "      <td>39.803753</td>\n",
       "      <td>-86.158213</td>\n",
       "      <td>-3.471500</td>\n",
       "      <td>-3.287762</td>\n",
       "    </tr>\n",
       "    <tr>\n",
       "      <th>3</th>\n",
       "      <td>2.0</td>\n",
       "      <td>3.0</td>\n",
       "      <td>1.0</td>\n",
       "      <td>12.0</td>\n",
       "      <td>5.0</td>\n",
       "      <td>25.777717</td>\n",
       "      <td>-80.190856</td>\n",
       "      <td>-3.290220</td>\n",
       "      <td>-0.645537</td>\n",
       "    </tr>\n",
       "    <tr>\n",
       "      <th>4</th>\n",
       "      <td>2.0</td>\n",
       "      <td>2.0</td>\n",
       "      <td>1.0</td>\n",
       "      <td>48.0</td>\n",
       "      <td>6.0</td>\n",
       "      <td>30.188408</td>\n",
       "      <td>-95.490077</td>\n",
       "      <td>-3.858308</td>\n",
       "      <td>-1.470806</td>\n",
       "    </tr>\n",
       "  </tbody>\n",
       "</table>\n",
       "</div>"
      ],
      "text/plain": [
       "   PREDDEG  HIGHDEG  CONTROL  ST_FIPS  REGION   LATITUDE   LONGITUDE  \\\n",
       "0      4.0      4.0      2.0     50.0     1.0  43.821797  -72.522070   \n",
       "1      3.0      4.0      3.0      4.0     6.0  33.402250 -111.966181   \n",
       "2      1.0      2.0      1.0     18.0     3.0  39.803753  -86.158213   \n",
       "3      2.0      3.0      1.0     12.0     5.0  25.777717  -80.190856   \n",
       "4      2.0      2.0      1.0     48.0     6.0  30.188408  -95.490077   \n",
       "\n",
       "       com1      com2  \n",
       "0 -6.678287  2.579147  \n",
       "1 -2.752622  1.137102  \n",
       "2 -3.471500 -3.287762  \n",
       "3 -3.290220 -0.645537  \n",
       "4 -3.858308 -1.470806  "
      ]
     },
     "execution_count": 10,
     "metadata": {},
     "output_type": "execute_result"
    }
   ],
   "source": [
    "# calculate new data\n",
    "Z_pca = Z.dot(P)\n",
    "data_cat = df.iloc[:100,:7]\n",
    "result_pca = pd.DataFrame(np.hstack([ data_cat, Z_pca ]))\n",
    "result_pca.columns = [\"PREDDEG\", \"HIGHDEG\", \"CONTROL\", \n",
    "                  \"ST_FIPS\", \"REGION\", \"LATITUDE\", \"LONGITUDE\", \n",
    "                  \"com1\", \"com2\"]\n",
    "\n",
    "print('PCA Data:')\n",
    "result_pca.head()"
   ]
  },
  {
   "cell_type": "markdown",
   "metadata": {},
   "source": [
    "## 3. 搭配\"CONTROL\"畫出二維的資料"
   ]
  },
  {
   "cell_type": "code",
   "execution_count": 11,
   "metadata": {
    "collapsed": false
   },
   "outputs": [
    {
     "data": {
      "image/png": "[encoded data removed]",
      "text/plain": [
       "<matplotlib.figure.Figure at 0x10fcaf400>"
      ]
     },
     "metadata": {},
     "output_type": "display_data"
    }
   ],
   "source": [
    "import matplotlib.pyplot as plt\n",
    "import plotly.plotly as py\n",
    "\n",
    "fig, ax = plt.subplots()\n",
    "\n",
    "# 先畫出原本散佈圖的點。\n",
    "data_1 = np.array(result_pca[result_pca.CONTROL == 1])\n",
    "data_2 = np.array(result_pca[result_pca.CONTROL == 2])\n",
    "data_3 = np.array(result_pca[result_pca.CONTROL == 3])\n",
    "ax.scatter(data_1[:, [7]], data_1[:, [8]], color='r', marker='^', alpha=.4)\n",
    "ax.scatter(data_2[:, [7]], data_2[:, [8]], color='b', alpha=.4)\n",
    "ax.scatter(data_3[:, [7]], data_3[:, [8]], color='g', marker='s', alpha=.4)\n",
    "ax.autoscale()\n",
    "\n",
    "plt.title('Scatter_PCA')\n",
    "plt.show()\n"
   ]
  },
  {
   "cell_type": "markdown",
   "metadata": {
    "collapsed": true
   },
   "source": [
    ">與前面svd所畫出的圖形一樣。<br/>\n",
    "從兩者的原理及推討過程中其實也看出兩者所做的事情大同小異，<br/>\n",
    "同樣都是在資料Ｘ矩陣中做\"column space\"的討論，<br/>\n",
    "只是SVD是直接對整個資料及做分解，而PCA是針對covariance matrix做分解，<br/>\n",
    "直覺來看可能會認為後者的計算量會比較小，因此也被廣泛運用在資料科學的領域。\n",
    "\n",
    ">而PCA是一般做資料分析中最常被使用的\"data pre-processing\"，<br/>\n",
    "它可以有效地做資料維度的下降，這可以減少計算的複雜度以及GPD的使用，也能減少之後資料量的儲存。<br/>\n",
    "在物聯網中，除了透過一些處理使資料稀疏，搭配PCA使資料維度下降，可以讓一些資料簡化。<br/>\n",
    "之後透過簡單的sensor就可以應付處理，以避免所有資料都必須上傳到雲端做處理，來做出即時的分析。"
   ]
  },
  {
   "cell_type": "code",
   "execution_count": null,
   "metadata": {
    "collapsed": true
   },
   "outputs": [],
   "source": []
  }
 ],
 "metadata": {
  "kernelspec": {
   "display_name": "Python 3",
   "language": "python",
   "name": "python3"
  },
  "language_info": {
   "codemirror_mode": {
    "name": "ipython",
    "version": 3
   },
   "file_extension": ".py",
   "mimetype": "text/x-python",
   "name": "python",
   "nbconvert_exporter": "python",
   "pygments_lexer": "ipython3",
   "version": "3.6.0"
  }
 },
 "nbformat": 4,
 "nbformat_minor": 2
}
