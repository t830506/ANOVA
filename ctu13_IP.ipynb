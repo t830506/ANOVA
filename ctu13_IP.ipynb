{
 "cells": [
  {
   "cell_type": "code",
   "execution_count": 1,
   "metadata": {
    "collapsed": false
   },
   "outputs": [
    {
     "name": "stderr",
     "output_type": "stream",
     "text": [
      "Using TensorFlow backend.\n"
     ]
    },
    {
     "data": {
      "text/html": [
       "<script>jQuery(function() {if (jQuery(\"body.notebook_app\").length == 0) { jQuery(\".input_area\").toggle(); jQuery(\".prompt\").toggle();}});</script>"
      ]
     },
     "metadata": {},
     "output_type": "display_data"
    }
   ],
   "source": [
    "import numpy as np\n",
    "import pandas as pd\n",
    "import networkx as nx\n",
    "import matplotlib.pyplot as plt\n",
    "from IPython.display import display\n",
    "from sklearn.preprocessing import StandardScaler\n",
    "from sklearn.preprocessing import MinMaxScaler\n",
    "from sklearn.model_selection import train_test_split\n",
    "\n",
    "import keras\n",
    "from keras.utils import np_utils\n",
    "from keras.preprocessing.sequence import pad_sequences\n",
    "from keras.models import Sequential\n",
    "from keras.layers import Dense, Dropout, Activation, Flatten\n",
    "from keras.optimizers import  Adam\n",
    "from keras import regularizers\n",
    "from keras import backend as K\n",
    "from keras.layers import Convolution2D, MaxPooling2D\n",
    "\n",
    "import IPython.core.display as di\n",
    "di.display_html('<script>jQuery(function() {if (jQuery(\"body.notebook_app\").length == 0) { jQuery(\".input_area\").toggle(); jQuery(\".prompt\").toggle();}});</script>', raw=True)\n",
    "pd.options.mode.chained_assignment = None"
   ]
  },
  {
   "cell_type": "code",
   "execution_count": 2,
   "metadata": {
    "collapsed": true
   },
   "outputs": [],
   "source": [
    "def imp(path):\n",
    "    df = pd.read_csv(path)\n",
    "    del df[\"Unnamed: 0\"]\n",
    "    print(df.shape)\n",
    "    df1 = df.iloc[:, :4]\n",
    "    df1 = df1.sort([\"SrcAddr\",\"DstAddr\",\"StartTime\"], ascending = True)\n",
    "    print(df1.shape)\n",
    "    print(\"Only use IP address\")\n",
    "    print(df1.head())\n",
    "    return df1"
   ]
  },
  {
   "cell_type": "code",
   "execution_count": 3,
   "metadata": {
    "collapsed": false
   },
   "outputs": [
    {
     "name": "stdout",
     "output_type": "stream",
     "text": [
      "(2619340, 31)\n"
     ]
    },
    {
     "name": "stderr",
     "output_type": "stream",
     "text": [
      "/Users/Shawn/anaconda/lib/python3.6/site-packages/ipykernel/__main__.py:6: FutureWarning: sort(columns=....) is deprecated, use sort_values(by=.....)\n"
     ]
    },
    {
     "name": "stdout",
     "output_type": "stream",
     "text": [
      "(2619340, 4)\n",
      "Only use IP address\n",
      "   StartTime        SrcAddr        DstAddr  label\n",
      "0    2165588  1.108.169.143  147.32.84.229      0\n",
      "1    1436316      1.11.9.68  147.32.84.229      0\n",
      "2    1358104     1.112.1.75  147.32.84.229      0\n",
      "3    1112468  1.112.109.236  147.32.84.229      0\n",
      "4    1131769  1.112.111.184  147.32.84.229      0\n"
     ]
    }
   ],
   "source": [
    "df = imp(\"st_ctu13.csv\")"
   ]
  },
  {
   "cell_type": "markdown",
   "metadata": {},
   "source": [
    "> 先將資料取出成對IP並藉由StartTime排列。\n",
    "因為可能會有testing set出現training set沒出現過的IP的情況，  \n",
    "所以我們打算將IP轉成一個timewindow裡面的degree，  \n",
    "在之後做testing的時候就可以也轉化成degree去做代表。"
   ]
  },
  {
   "cell_type": "markdown",
   "metadata": {},
   "source": [
    "# IP address ranking in time_window and sort by IP address"
   ]
  },
  {
   "cell_type": "code",
   "execution_count": 4,
   "metadata": {
    "collapsed": false
   },
   "outputs": [
    {
     "data": {
      "image/png": "[encoded data removed]",
      "text/plain": [
       "<matplotlib.figure.Figure at 0x126daeeb8>"
      ]
     },
     "metadata": {},
     "output_type": "display_data"
    }
   ],
   "source": [
    "i = 0\n",
    "time_window = 5000\n",
    "df1 = df[((i)*time_window <= df.StartTime) & (df.StartTime < (i+1)*time_window)]\n",
    "G = nx.from_pandas_dataframe(df1, 'SrcAddr', 'DstAddr', edge_attr = True)\n",
    "nx.shortest_path(G)\n",
    "nx.draw_networkx(G, node_size = 100, alpha = 0.2, with_labels = False)\n",
    "plt.title(\"Network of Time_window = 5000\")\n",
    "plt.show()"
   ]
  },
  {
   "cell_type": "code",
   "execution_count": 5,
   "metadata": {
    "collapsed": false,
    "scrolled": false
   },
   "outputs": [
    {
     "name": "stdout",
     "output_type": "stream",
     "text": [
      "Count of IP in one time_window: 3441\n",
      "Rank and Degree\n"
     ]
    },
    {
     "data": {
      "text/html": [
       "<div>\n",
       "<table border=\"1\" class=\"dataframe\">\n",
       "  <thead>\n",
       "    <tr style=\"text-align: right;\">\n",
       "      <th></th>\n",
       "      <th>SrcAddr</th>\n",
       "      <th>degree</th>\n",
       "      <th>DstAddr</th>\n",
       "      <th>rank</th>\n",
       "    </tr>\n",
       "  </thead>\n",
       "  <tbody>\n",
       "    <tr>\n",
       "      <th>0</th>\n",
       "      <td>1.144.156.226</td>\n",
       "      <td>1</td>\n",
       "      <td>1.144.156.226</td>\n",
       "      <td>1785.0</td>\n",
       "    </tr>\n",
       "    <tr>\n",
       "      <th>1</th>\n",
       "      <td>147.32.84.229</td>\n",
       "      <td>2954</td>\n",
       "      <td>147.32.84.229</td>\n",
       "      <td>1.0</td>\n",
       "    </tr>\n",
       "    <tr>\n",
       "      <th>2</th>\n",
       "      <td>1.155.150.224</td>\n",
       "      <td>1</td>\n",
       "      <td>1.155.150.224</td>\n",
       "      <td>1785.0</td>\n",
       "    </tr>\n",
       "    <tr>\n",
       "      <th>3</th>\n",
       "      <td>1.161.139.96</td>\n",
       "      <td>1</td>\n",
       "      <td>1.161.139.96</td>\n",
       "      <td>1785.0</td>\n",
       "    </tr>\n",
       "    <tr>\n",
       "      <th>4</th>\n",
       "      <td>1.72.0.253</td>\n",
       "      <td>1</td>\n",
       "      <td>1.72.0.253</td>\n",
       "      <td>1785.0</td>\n",
       "    </tr>\n",
       "    <tr>\n",
       "      <th>5</th>\n",
       "      <td>107.10.133.94</td>\n",
       "      <td>1</td>\n",
       "      <td>107.10.133.94</td>\n",
       "      <td>1785.0</td>\n",
       "    </tr>\n",
       "    <tr>\n",
       "      <th>6</th>\n",
       "      <td>108.196.204.150</td>\n",
       "      <td>1</td>\n",
       "      <td>108.196.204.150</td>\n",
       "      <td>1785.0</td>\n",
       "    </tr>\n",
       "    <tr>\n",
       "      <th>7</th>\n",
       "      <td>108.41.164.45</td>\n",
       "      <td>1</td>\n",
       "      <td>108.41.164.45</td>\n",
       "      <td>1785.0</td>\n",
       "    </tr>\n",
       "    <tr>\n",
       "      <th>8</th>\n",
       "      <td>108.41.71.165</td>\n",
       "      <td>1</td>\n",
       "      <td>108.41.71.165</td>\n",
       "      <td>1785.0</td>\n",
       "    </tr>\n",
       "    <tr>\n",
       "      <th>9</th>\n",
       "      <td>108.78.14.157</td>\n",
       "      <td>1</td>\n",
       "      <td>108.78.14.157</td>\n",
       "      <td>1785.0</td>\n",
       "    </tr>\n",
       "  </tbody>\n",
       "</table>\n",
       "</div>"
      ],
      "text/plain": [
       "           SrcAddr  degree          DstAddr    rank\n",
       "0    1.144.156.226       1    1.144.156.226  1785.0\n",
       "1    147.32.84.229    2954    147.32.84.229     1.0\n",
       "2    1.155.150.224       1    1.155.150.224  1785.0\n",
       "3     1.161.139.96       1     1.161.139.96  1785.0\n",
       "4       1.72.0.253       1       1.72.0.253  1785.0\n",
       "5    107.10.133.94       1    107.10.133.94  1785.0\n",
       "6  108.196.204.150       1  108.196.204.150  1785.0\n",
       "7    108.41.164.45       1    108.41.164.45  1785.0\n",
       "8    108.41.71.165       1    108.41.71.165  1785.0\n",
       "9    108.78.14.157       1    108.78.14.157  1785.0"
      ]
     },
     "execution_count": 5,
     "metadata": {},
     "output_type": "execute_result"
    }
   ],
   "source": [
    "### count degree\n",
    "deg = pd.DataFrame(G.degree_iter())\n",
    "deg.columns = [\"SrcAddr\", \"degree\"]\n",
    "deg[\"DstAddr\"] = deg.SrcAddr\n",
    "print('Count of IP in one time_window:', deg.shape[0])\n",
    "\n",
    "### to rank\n",
    "deg[\"rank\"] = deg.degree.rank(axis = 0, method = 'average', numeric_only = None,\n",
    "                             na_option = 'keep', ascending = False, pct = False)\n",
    "print(\"Rank and Degree\")\n",
    "deg.head(10)"
   ]
  },
  {
   "cell_type": "code",
   "execution_count": 6,
   "metadata": {
    "collapsed": true
   },
   "outputs": [],
   "source": [
    "def IP2deg(df, deg):\n",
    "    df1 = df.merge(deg.drop([\"degree\",\"DstAddr\"], axis=1), how = 'inner', on = \"SrcAddr\")\n",
    "    df2 = df1.merge(deg.drop([\"degree\",\"SrcAddr\"], axis=1), how = 'inner', on = \"DstAddr\")\n",
    "    return df2"
   ]
  },
  {
   "cell_type": "code",
   "execution_count": 7,
   "metadata": {
    "collapsed": false,
    "scrolled": false
   },
   "outputs": [
    {
     "name": "stdout",
     "output_type": "stream",
     "text": [
      "Merge to original data\n"
     ]
    },
    {
     "data": {
      "text/html": [
       "<div>\n",
       "<table border=\"1\" class=\"dataframe\">\n",
       "  <thead>\n",
       "    <tr style=\"text-align: right;\">\n",
       "      <th></th>\n",
       "      <th>StartTime</th>\n",
       "      <th>SrcAddr1</th>\n",
       "      <th>DstAddr1</th>\n",
       "      <th>label</th>\n",
       "      <th>SrcAddr</th>\n",
       "      <th>DstAddr</th>\n",
       "    </tr>\n",
       "  </thead>\n",
       "  <tbody>\n",
       "    <tr>\n",
       "      <th>0</th>\n",
       "      <td>2150</td>\n",
       "      <td>1.144.156.226</td>\n",
       "      <td>147.32.84.229</td>\n",
       "      <td>0</td>\n",
       "      <td>1785.0</td>\n",
       "      <td>1.0</td>\n",
       "    </tr>\n",
       "    <tr>\n",
       "      <th>1</th>\n",
       "      <td>2954</td>\n",
       "      <td>1.155.150.224</td>\n",
       "      <td>147.32.84.229</td>\n",
       "      <td>0</td>\n",
       "      <td>1785.0</td>\n",
       "      <td>1.0</td>\n",
       "    </tr>\n",
       "    <tr>\n",
       "      <th>2</th>\n",
       "      <td>2248</td>\n",
       "      <td>1.161.139.96</td>\n",
       "      <td>147.32.84.229</td>\n",
       "      <td>0</td>\n",
       "      <td>1785.0</td>\n",
       "      <td>1.0</td>\n",
       "    </tr>\n",
       "    <tr>\n",
       "      <th>3</th>\n",
       "      <td>2514</td>\n",
       "      <td>1.72.0.253</td>\n",
       "      <td>147.32.84.229</td>\n",
       "      <td>0</td>\n",
       "      <td>1785.0</td>\n",
       "      <td>1.0</td>\n",
       "    </tr>\n",
       "    <tr>\n",
       "      <th>4</th>\n",
       "      <td>1073</td>\n",
       "      <td>107.10.133.94</td>\n",
       "      <td>147.32.84.229</td>\n",
       "      <td>0</td>\n",
       "      <td>1785.0</td>\n",
       "      <td>1.0</td>\n",
       "    </tr>\n",
       "  </tbody>\n",
       "</table>\n",
       "</div>"
      ],
      "text/plain": [
       "   StartTime       SrcAddr1       DstAddr1  label  SrcAddr  DstAddr\n",
       "0       2150  1.144.156.226  147.32.84.229      0   1785.0      1.0\n",
       "1       2954  1.155.150.224  147.32.84.229      0   1785.0      1.0\n",
       "2       2248   1.161.139.96  147.32.84.229      0   1785.0      1.0\n",
       "3       2514     1.72.0.253  147.32.84.229      0   1785.0      1.0\n",
       "4       1073  107.10.133.94  147.32.84.229      0   1785.0      1.0"
      ]
     },
     "execution_count": 7,
     "metadata": {},
     "output_type": "execute_result"
    }
   ],
   "source": [
    "df_deg = IP2deg(df1, deg)\n",
    "df_deg.columns = [\"StartTime\",\"SrcAddr1\",\"DstAddr1\",\"label\",\"SrcAddr\",\"DstAddr\"]\n",
    "print(\"Merge to original data\")\n",
    "df_deg.head()"
   ]
  },
  {
   "cell_type": "markdown",
   "metadata": {},
   "source": [
    "### For Loop"
   ]
  },
  {
   "cell_type": "code",
   "execution_count": 8,
   "metadata": {
    "collapsed": false
   },
   "outputs": [
    {
     "name": "stdout",
     "output_type": "stream",
     "text": [
      "(2615000, 6)\n"
     ]
    },
    {
     "data": {
      "text/plain": [
       "0    2586676\n",
       "1      28324\n",
       "Name: label, dtype: int64"
      ]
     },
     "execution_count": 8,
     "metadata": {},
     "output_type": "execute_result"
    }
   ],
   "source": [
    "time_window = 5000\n",
    "size_of_window = int((df.shape[0]) / time_window)\n",
    "\n",
    "y = []\n",
    "for i in range(size_of_window):\n",
    "    df3 = df[(i*time_window <= df.StartTime) & (df.StartTime < (i+1)*time_window)]\n",
    "    G = nx.from_pandas_dataframe(df3, 'SrcAddr', 'DstAddr', edge_attr = True)\n",
    "    \n",
    "    deg = pd.DataFrame(G.degree_iter())\n",
    "    deg.columns = [\"SrcAddr\", \"degree\"]\n",
    "    deg[\"DstAddr\"] = deg.SrcAddr\n",
    "    deg[\"rank\"] = deg.degree.rank(axis = 0, method = 'average', numeric_only = None,\n",
    "                                  na_option = 'keep', ascending = False, pct = False)\n",
    "    df_deg = IP2deg(df3, deg)\n",
    "    df_deg.columns = [\"StartTime\",\"SrcAddr1\",\"DstAddr1\",\"label\",\"SrcAddr\",\"DstAddr\"]\n",
    "    y.append(df_deg)\n",
    "    \n",
    "appended_data = pd.concat(y, axis = 0)\n",
    "appended_data = appended_data.reset_index(drop = True)\n",
    "print(appended_data.shape)\n",
    "appended_data[\"label\"].value_counts()"
   ]
  },
  {
   "cell_type": "code",
   "execution_count": null,
   "metadata": {
    "collapsed": true
   },
   "outputs": [],
   "source": [
    "### Sort by IP and StartTime\n",
    "def transfer(df):\n",
    "    df = df.sort([\"SrcAddr\",\"DstAddr\",\"StartTime\"], ascending = True)\n",
    "    df1 = df.drop([\"SrcAddr1\",\"DstAddr1\",\"StartTime\"], axis = 1)\n",
    "    print(\"Size of dataset\", df1.shape[0])\n",
    "    print(\"======= Label of Sort IP =======\")\n",
    "    print(df1[\"label\"].value_counts())\n",
    "    return df1"
   ]
  },
  {
   "cell_type": "code",
   "execution_count": null,
   "metadata": {
    "collapsed": false
   },
   "outputs": [
    {
     "name": "stderr",
     "output_type": "stream",
     "text": [
      "/Users/Shawn/anaconda/lib/python3.6/site-packages/ipykernel/__main__.py:3: FutureWarning: sort(columns=....) is deprecated, use sort_values(by=.....)\n",
      "  app.launch_new_instance()\n"
     ]
    }
   ],
   "source": [
    "### Training and Testing\n",
    "training_size = int(size_of_window * 0.8) * time_window\n",
    "data = appended_data.iloc[:training_size,:]\n",
    "test = appended_data.iloc[training_size:,:]\n",
    "\n",
    "df_rank = transfer(data)\n",
    "df_rank_test = transfer(test)"
   ]
  },
  {
   "cell_type": "code",
   "execution_count": null,
   "metadata": {
    "collapsed": true
   },
   "outputs": [],
   "source": [
    "def reshape(df):\n",
    "    x = np.array(df[[\"SrcAddr\", \"DstAddr\"]])\n",
    "    y = np.array(df[\"label\"])\n",
    "    \n",
    "    seq_length = 1\n",
    "    X = np.reshape(x, (len(x), seq_length, 2))\n",
    "    X = X / np.max(df_rank.SrcAddr)\n",
    "    \n",
    "    Y = np_utils.to_categorical(y)\n",
    "    \n",
    "    print(X.shape, Y.shape)\n",
    "    return X, Y"
   ]
  },
  {
   "cell_type": "code",
   "execution_count": null,
   "metadata": {
    "collapsed": false
   },
   "outputs": [],
   "source": [
    "print(\"Reshape Training and Testing Dataset\")\n",
    "X_train, y_train = reshape(df_rank)\n",
    "X_test, y_test = reshape(df_rank_test)"
   ]
  },
  {
   "cell_type": "code",
   "execution_count": null,
   "metadata": {
    "collapsed": false
   },
   "outputs": [],
   "source": [
    "### Baseline and Class_weight\n",
    "a = pd.DataFrame(y_test, columns=[\"N\", \"B\"])\n",
    "b = pd.DataFrame(a[\"B\"].value_counts())\n",
    "base = a[a.B == 1].shape[0] / a.shape[0]\n",
    "class_weight = b.iloc[0, 0] / b.iloc[1, 0]\n",
    "\n",
    "print(\"Base line:\", (1-base))\n",
    "print(\"class weight:\", class_weight)"
   ]
  },
  {
   "cell_type": "code",
   "execution_count": null,
   "metadata": {
    "collapsed": false
   },
   "outputs": [],
   "source": [
    "from keras.layers import LSTM\n",
    "\n",
    "model = Sequential()\n",
    "model.add(LSTM(16, return_sequences = False,\n",
    "               input_shape = (X_train.shape[1], X_train.shape[2])))\n",
    "#model.add(LSTM(512, return_sequences = True))\n",
    "#model.add(LSTM(512, return_sequences = True))\n",
    "#model.add(LSTM(512, return_sequences = True))\n",
    "#model.add(LSTM(512))\n",
    "model.add(Dense(y_train.shape[1], activation='softmax'))\n",
    "model.compile(loss = 'categorical_crossentropy',\n",
    "              optimizer = 'adam',\n",
    "              metrics = ['accuracy'])\n",
    "model.summary()"
   ]
  },
  {
   "cell_type": "code",
   "execution_count": null,
   "metadata": {
    "collapsed": false
   },
   "outputs": [],
   "source": [
    "batch_size = int(X_train.shape[0]*0.0001)\n",
    "nb_epoch = 2\n",
    "\n",
    "history = model.fit(X_train, y_train,\n",
    "                    batch_size = batch_size,  \n",
    "                    epochs = nb_epoch,  \n",
    "                    verbose = 1,  \n",
    "                    validation_split = 0.1,  \n",
    "                    class_weight = {0: 1, 1: class_weight})\n",
    "\n",
    "loss = history.history.get('loss')\n",
    "acc = history.history.get('acc')\n",
    "\n",
    "''' Access the performance on validation data '''\n",
    "val_loss = history.history.get('val_loss')\n",
    "val_acc = history.history.get('val_acc')\n",
    "\n",
    "''' Visualize the loss and accuracy of both models'''\n",
    "import matplotlib.pyplot as plt\n",
    "plt.figure(0)\n",
    "plt.subplot(121)\n",
    "plt.plot(range(len(loss)), loss,label = 'Training')\n",
    "plt.plot(range(len(val_loss)), val_loss,label = 'Validation')\n",
    "plt.title('Loss')\n",
    "plt.legend(loc='upper left')\n",
    "plt.subplot(122)\n",
    "plt.plot(range(len(acc)), acc,label = 'Training')\n",
    "plt.plot(range(len(val_acc)), val_acc,label = 'Validation')\n",
    "plt.title('Accuracy')\n",
    "plt.show()"
   ]
  },
  {
   "cell_type": "code",
   "execution_count": null,
   "metadata": {
    "collapsed": false
   },
   "outputs": [],
   "source": [
    "score = model.evaluate(X_test, y_test, verbose = 0)\n",
    "print('Validation score:', score[0])\n",
    "print('Validation accuracy:', score[1])"
   ]
  },
  {
   "cell_type": "code",
   "execution_count": null,
   "metadata": {
    "collapsed": true
   },
   "outputs": [],
   "source": [
    "def plot_confusion_matrix(cm, classes,\n",
    "                          normalize = False,\n",
    "                          title = 'Confusion matrix',\n",
    "                          cmap = plt.cm.Blues):\n",
    "    \"\"\"\n",
    "    This function prints and plots the confusion matrix.\n",
    "    Normalization can be applied by setting `normalize=True`.\n",
    "    \"\"\"\n",
    "    plt.imshow(cm, interpolation='nearest', cmap=cmap)\n",
    "    plt.title(title)\n",
    "    plt.colorbar()\n",
    "    tick_marks = np.arange(len(classes))\n",
    "    plt.xticks(tick_marks, classes, rotation = 45)\n",
    "    plt.yticks(tick_marks, classes)\n",
    "\n",
    "    if normalize:\n",
    "        cm = cm.astype('float') / cm.sum(axis=1)[:, np.newaxis]\n",
    "        print(\"Normalized confusion matrix\")\n",
    "    else:\n",
    "        print('Confusion matrix, without normalization')\n",
    "\n",
    "    print(cm)\n",
    "\n",
    "    thresh = cm.max() / 2.\n",
    "    for i, j in itertools.product(range(cm.shape[0]), range(cm.shape[1])):\n",
    "        plt.text(j, i, cm[i, j],\n",
    "                 horizontalalignment = \"center\",\n",
    "                 color = \"white\" if cm[i, j] > thresh else \"black\")\n",
    "\n",
    "    plt.tight_layout()\n",
    "    plt.ylabel('True label')\n",
    "    plt.xlabel('Predicted label')"
   ]
  },
  {
   "cell_type": "code",
   "execution_count": null,
   "metadata": {
    "collapsed": false
   },
   "outputs": [],
   "source": [
    "from sklearn.metrics import confusion_matrix\n",
    "import itertools\n",
    "\n",
    "y_true = y_test[:,1]\n",
    "y_pred = model.predict_classes(X_test)\n",
    "cm = confusion_matrix(y_true, y_pred, labels = None, sample_weight = None)\n",
    "\n",
    "np.set_printoptions(precision=2)\n",
    "class_names = [\"0\", \"1\"]\n",
    "\n",
    "# Plot non-normalized confusion matrix\n",
    "plt.figure()\n",
    "plot_confusion_matrix(cm, classes = class_names,\n",
    "                      title = 'Confusion matrix, without normalization')\n",
    "\n",
    "# Plot normalized confusion matrix\n",
    "plt.figure()\n",
    "plot_confusion_matrix(cm, classes = class_names, normalize = True,\n",
    "                      title = 'Normalized confusion matrix')\n",
    "\n",
    "plt.show()"
   ]
  },
  {
   "cell_type": "markdown",
   "metadata": {},
   "source": [
    "# Testing"
   ]
  },
  {
   "cell_type": "code",
   "execution_count": null,
   "metadata": {
    "collapsed": false
   },
   "outputs": [],
   "source": [
    "test_time = imp(\"testctu13.csv\")"
   ]
  },
  {
   "cell_type": "code",
   "execution_count": null,
   "metadata": {
    "collapsed": false
   },
   "outputs": [],
   "source": [
    "time_window = 5000\n",
    "size_of_window = int((test_time.shape[0]) / time_window)\n",
    "\n",
    "y = []\n",
    "for i in range(size_of_window):\n",
    "    df3 = test_time[(i*time_window <= test_time.StartTime) & (test_time.StartTime < (i+1)*time_window)]\n",
    "    G = nx.from_pandas_dataframe(df3, 'SrcAddr', 'DstAddr', edge_attr = True)\n",
    "    \n",
    "    deg = pd.DataFrame(G.degree_iter())\n",
    "    deg.columns = [\"SrcAddr\", \"degree\"]\n",
    "    deg[\"DstAddr\"] = deg.SrcAddr\n",
    "    deg[\"rank\"] = deg.degree.rank(axis = 0, method = 'average', numeric_only = None,\n",
    "                                  na_option = 'keep', ascending = False, pct = False)\n",
    "    df_deg = IP2deg(df3, deg)\n",
    "    df_deg.columns = [\"StartTime\",\"SrcAddr1\",\"DstAddr1\",\"label\",\"SrcAddr\",\"DstAddr\"]\n",
    "    y.append(df_deg)\n",
    "    \n",
    "appended_test = pd.concat(y, axis = 0)\n",
    "appended_test = appended_test.reset_index(drop = True)\n",
    "print(appended_test.shape)\n",
    "appended_test[\"label\"].value_counts()"
   ]
  },
  {
   "cell_type": "code",
   "execution_count": null,
   "metadata": {
    "collapsed": false
   },
   "outputs": [],
   "source": [
    "test_rank = transfer(appended_test)\n",
    "print(\"Training and Testing\")\n",
    "test_X, test_y = reshape(test_rank)"
   ]
  },
  {
   "cell_type": "code",
   "execution_count": null,
   "metadata": {
    "collapsed": false
   },
   "outputs": [],
   "source": [
    "score = model.evaluate(test_X, test_y, verbose = 0)\n",
    "print(\"===\")\n",
    "print('Test score:', score[0])  \n",
    "print('Test accuracy:', score[1])"
   ]
  },
  {
   "cell_type": "code",
   "execution_count": null,
   "metadata": {
    "collapsed": true
   },
   "outputs": [],
   "source": [
    "y_true = test_y[:,1]\n",
    "y_pred = model.predict_classes(test_X)"
   ]
  },
  {
   "cell_type": "code",
   "execution_count": null,
   "metadata": {
    "collapsed": true
   },
   "outputs": [],
   "source": [
    "cm = confusion_matrix(y_true, y_pred, labels = None, sample_weight = None)\n",
    "\n",
    "np.set_printoptions(precision=2)\n",
    "class_names = [\"0\", \"1\"]\n",
    "\n",
    "# Plot non-normalized confusion matrix\n",
    "plt.figure()\n",
    "plot_confusion_matrix(cm, classes = class_names,\n",
    "                      title = 'Confusion matrix, without normalization')\n",
    "\n",
    "# Plot normalized confusion matrix\n",
    "plt.figure()\n",
    "plot_confusion_matrix(cm, classes = class_names, normalize = True,\n",
    "                      title = 'Normalized confusion matrix')\n",
    "\n",
    "plt.show()"
   ]
  },
  {
   "cell_type": "code",
   "execution_count": null,
   "metadata": {
    "collapsed": true
   },
   "outputs": [],
   "source": []
  }
 ],
 "metadata": {
  "kernelspec": {
   "display_name": "Python 3",
   "language": "python",
   "name": "python3"
  },
  "language_info": {
   "codemirror_mode": {
    "name": "ipython",
    "version": 3
   },
   "file_extension": ".py",
   "mimetype": "text/x-python",
   "name": "python",
   "nbconvert_exporter": "python",
   "pygments_lexer": "ipython3",
   "version": "3.6.0"
  }
 },
 "nbformat": 4,
 "nbformat_minor": 2
}
