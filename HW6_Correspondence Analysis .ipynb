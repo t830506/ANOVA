{
 "cells": [
  {
   "cell_type": "markdown",
   "metadata": {},
   "source": [
    "# 應用多變量分析 HW6\n",
    "### 105024519 許閔翔"
   ]
  },
  {
   "cell_type": "code",
   "execution_count": 1,
   "metadata": {
    "collapsed": false
   },
   "outputs": [
    {
     "data": {
      "text/html": [
       "<script>jQuery(function() {if (jQuery(\"body.notebook_app\").length == 0) { jQuery(\".input_area\").toggle(); jQuery(\".prompt\").toggle();}});</script>"
      ]
     },
     "metadata": {},
     "output_type": "display_data"
    }
   ],
   "source": [
    "import numpy as np\n",
    "import pandas as pd\n",
    "import matplotlib.pyplot as plt\n",
    "from mpl_toolkits.mplot3d import Axes3D\n",
    "from numpy.linalg import svd\n",
    "import IPython.core.display as di\n",
    "\n",
    "di.display_html('<script>jQuery(function() {if (jQuery(\"body.notebook_app\").length == 0) { jQuery(\".input_area\").toggle(); jQuery(\".prompt\").toggle();}});</script>', raw=True)"
   ]
  },
  {
   "cell_type": "code",
   "execution_count": 12,
   "metadata": {
    "collapsed": false
   },
   "outputs": [
    {
     "data": {
      "text/html": [
       "<div>\n",
       "<table border=\"1\" class=\"dataframe\">\n",
       "  <thead>\n",
       "    <tr style=\"text-align: right;\">\n",
       "      <th></th>\n",
       "      <th>school</th>\n",
       "      <th>clu</th>\n",
       "      <th>control</th>\n",
       "    </tr>\n",
       "  </thead>\n",
       "  <tbody>\n",
       "    <tr>\n",
       "      <th>0</th>\n",
       "      <td>Remington College-Dallas Campus</td>\n",
       "      <td>1</td>\n",
       "      <td>2</td>\n",
       "    </tr>\n",
       "    <tr>\n",
       "      <th>1</th>\n",
       "      <td>University of New Mexico-Taos Campus</td>\n",
       "      <td>2</td>\n",
       "      <td>1</td>\n",
       "    </tr>\n",
       "    <tr>\n",
       "      <th>2</th>\n",
       "      <td>Le Cordon Bleu College of Culinary Arts-Miami</td>\n",
       "      <td>1</td>\n",
       "      <td>3</td>\n",
       "    </tr>\n",
       "    <tr>\n",
       "      <th>3</th>\n",
       "      <td>Washtenaw Community College</td>\n",
       "      <td>1</td>\n",
       "      <td>1</td>\n",
       "    </tr>\n",
       "    <tr>\n",
       "      <th>4</th>\n",
       "      <td>Sierra College</td>\n",
       "      <td>1</td>\n",
       "      <td>1</td>\n",
       "    </tr>\n",
       "  </tbody>\n",
       "</table>\n",
       "</div>"
      ],
      "text/plain": [
       "                                          school  clu  control\n",
       "0                Remington College-Dallas Campus    1        2\n",
       "1           University of New Mexico-Taos Campus    2        1\n",
       "2  Le Cordon Bleu College of Culinary Arts-Miami    1        3\n",
       "3                    Washtenaw Community College    1        1\n",
       "4                                 Sierra College    1        1"
      ]
     },
     "execution_count": 12,
     "metadata": {},
     "output_type": "execute_result"
    }
   ],
   "source": [
    "df = pd.read_csv(\"cluster.csv\", sep = \",\")\n",
    "del df[\"Unnamed: 0\"]\n",
    "df.head()"
   ]
  },
  {
   "cell_type": "code",
   "execution_count": 23,
   "metadata": {
    "collapsed": false
   },
   "outputs": [
    {
     "name": "stdout",
     "output_type": "stream",
     "text": [
      "The contingency table\n"
     ]
    },
    {
     "data": {
      "text/html": [
       "<div>\n",
       "<table border=\"1\" class=\"dataframe\">\n",
       "  <thead>\n",
       "    <tr style=\"text-align: right;\">\n",
       "      <th></th>\n",
       "      <th>con1</th>\n",
       "      <th>con2</th>\n",
       "      <th>con3</th>\n",
       "      <th>tol_pred</th>\n",
       "    </tr>\n",
       "  </thead>\n",
       "  <tbody>\n",
       "    <tr>\n",
       "      <th>clu1</th>\n",
       "      <td>28</td>\n",
       "      <td>2</td>\n",
       "      <td>10</td>\n",
       "      <td>40</td>\n",
       "    </tr>\n",
       "    <tr>\n",
       "      <th>clu2</th>\n",
       "      <td>7</td>\n",
       "      <td>2</td>\n",
       "      <td>1</td>\n",
       "      <td>10</td>\n",
       "    </tr>\n",
       "    <tr>\n",
       "      <th>clu3</th>\n",
       "      <td>2</td>\n",
       "      <td>3</td>\n",
       "      <td>9</td>\n",
       "      <td>14</td>\n",
       "    </tr>\n",
       "    <tr>\n",
       "      <th>clu4</th>\n",
       "      <td>18</td>\n",
       "      <td>4</td>\n",
       "      <td>1</td>\n",
       "      <td>23</td>\n",
       "    </tr>\n",
       "    <tr>\n",
       "      <th>clu5</th>\n",
       "      <td>13</td>\n",
       "      <td>0</td>\n",
       "      <td>0</td>\n",
       "      <td>13</td>\n",
       "    </tr>\n",
       "    <tr>\n",
       "      <th>tol_con</th>\n",
       "      <td>68</td>\n",
       "      <td>11</td>\n",
       "      <td>21</td>\n",
       "      <td>100</td>\n",
       "    </tr>\n",
       "  </tbody>\n",
       "</table>\n",
       "</div>"
      ],
      "text/plain": [
       "         con1  con2  con3  tol_pred\n",
       "clu1       28     2    10        40\n",
       "clu2        7     2     1        10\n",
       "clu3        2     3     9        14\n",
       "clu4       18     4     1        23\n",
       "clu5       13     0     0        13\n",
       "tol_con    68    11    21       100"
      ]
     },
     "execution_count": 23,
     "metadata": {},
     "output_type": "execute_result"
    }
   ],
   "source": [
    "table = pd.crosstab(index = df[\"clu\"], columns = df[\"control\"], margins = True)\n",
    "\n",
    "table.columns = [\"con1\",\"con2\",\"con3\",\"tol_pred\"]\n",
    "table.index= [\"clu1\",\"clu2\",\"clu3\",\"clu4\",\"clu5\",\"tol_con\"]\n",
    "\n",
    "print(\"The contingency table\")\n",
    "table"
   ]
  },
  {
   "cell_type": "code",
   "execution_count": 24,
   "metadata": {
    "collapsed": false
   },
   "outputs": [
    {
     "data": {
      "text/html": [
       "<div>\n",
       "<table border=\"1\" class=\"dataframe\">\n",
       "  <thead>\n",
       "    <tr style=\"text-align: right;\">\n",
       "      <th></th>\n",
       "      <th>con1</th>\n",
       "      <th>con2</th>\n",
       "      <th>con3</th>\n",
       "      <th>tol_pred</th>\n",
       "    </tr>\n",
       "  </thead>\n",
       "  <tbody>\n",
       "    <tr>\n",
       "      <th>clu1</th>\n",
       "      <td>0.28</td>\n",
       "      <td>0.02</td>\n",
       "      <td>0.10</td>\n",
       "      <td>0.40</td>\n",
       "    </tr>\n",
       "    <tr>\n",
       "      <th>clu2</th>\n",
       "      <td>0.07</td>\n",
       "      <td>0.02</td>\n",
       "      <td>0.01</td>\n",
       "      <td>0.10</td>\n",
       "    </tr>\n",
       "    <tr>\n",
       "      <th>clu3</th>\n",
       "      <td>0.02</td>\n",
       "      <td>0.03</td>\n",
       "      <td>0.09</td>\n",
       "      <td>0.14</td>\n",
       "    </tr>\n",
       "    <tr>\n",
       "      <th>clu4</th>\n",
       "      <td>0.18</td>\n",
       "      <td>0.04</td>\n",
       "      <td>0.01</td>\n",
       "      <td>0.23</td>\n",
       "    </tr>\n",
       "    <tr>\n",
       "      <th>clu5</th>\n",
       "      <td>0.13</td>\n",
       "      <td>0.00</td>\n",
       "      <td>0.00</td>\n",
       "      <td>0.13</td>\n",
       "    </tr>\n",
       "    <tr>\n",
       "      <th>tol_con</th>\n",
       "      <td>0.68</td>\n",
       "      <td>0.11</td>\n",
       "      <td>0.21</td>\n",
       "      <td>1.00</td>\n",
       "    </tr>\n",
       "  </tbody>\n",
       "</table>\n",
       "</div>"
      ],
      "text/plain": [
       "         con1  con2  con3  tol_pred\n",
       "clu1     0.28  0.02  0.10      0.40\n",
       "clu2     0.07  0.02  0.01      0.10\n",
       "clu3     0.02  0.03  0.09      0.14\n",
       "clu4     0.18  0.04  0.01      0.23\n",
       "clu5     0.13  0.00  0.00      0.13\n",
       "tol_con  0.68  0.11  0.21      1.00"
      ]
     },
     "execution_count": 24,
     "metadata": {},
     "output_type": "execute_result"
    }
   ],
   "source": [
    "table_pro = table/table.ix[\"tol_con\",\"tol_pred\"]\n",
    "table_pro"
   ]
  },
  {
   "cell_type": "code",
   "execution_count": 25,
   "metadata": {
    "collapsed": false
   },
   "outputs": [
    {
     "name": "stdout",
     "output_type": "stream",
     "text": [
      "The row profiles\n"
     ]
    },
    {
     "data": {
      "text/html": [
       "<div>\n",
       "<table border=\"1\" class=\"dataframe\">\n",
       "  <thead>\n",
       "    <tr style=\"text-align: right;\">\n",
       "      <th></th>\n",
       "      <th>con1</th>\n",
       "      <th>con2</th>\n",
       "      <th>con3</th>\n",
       "      <th>ri</th>\n",
       "    </tr>\n",
       "  </thead>\n",
       "  <tbody>\n",
       "    <tr>\n",
       "      <th>clu1</th>\n",
       "      <td>0.700000</td>\n",
       "      <td>0.050000</td>\n",
       "      <td>0.250000</td>\n",
       "      <td>0.40</td>\n",
       "    </tr>\n",
       "    <tr>\n",
       "      <th>clu2</th>\n",
       "      <td>0.700000</td>\n",
       "      <td>0.200000</td>\n",
       "      <td>0.100000</td>\n",
       "      <td>0.10</td>\n",
       "    </tr>\n",
       "    <tr>\n",
       "      <th>clu3</th>\n",
       "      <td>0.142857</td>\n",
       "      <td>0.214286</td>\n",
       "      <td>0.642857</td>\n",
       "      <td>0.14</td>\n",
       "    </tr>\n",
       "    <tr>\n",
       "      <th>clu4</th>\n",
       "      <td>0.782609</td>\n",
       "      <td>0.173913</td>\n",
       "      <td>0.043478</td>\n",
       "      <td>0.23</td>\n",
       "    </tr>\n",
       "    <tr>\n",
       "      <th>clu5</th>\n",
       "      <td>1.000000</td>\n",
       "      <td>0.000000</td>\n",
       "      <td>0.000000</td>\n",
       "      <td>0.13</td>\n",
       "    </tr>\n",
       "    <tr>\n",
       "      <th>tol_con</th>\n",
       "      <td>0.680000</td>\n",
       "      <td>0.110000</td>\n",
       "      <td>0.210000</td>\n",
       "      <td>1.00</td>\n",
       "    </tr>\n",
       "  </tbody>\n",
       "</table>\n",
       "</div>"
      ],
      "text/plain": [
       "             con1      con2      con3    ri\n",
       "clu1     0.700000  0.050000  0.250000  0.40\n",
       "clu2     0.700000  0.200000  0.100000  0.10\n",
       "clu3     0.142857  0.214286  0.642857  0.14\n",
       "clu4     0.782609  0.173913  0.043478  0.23\n",
       "clu5     1.000000  0.000000  0.000000  0.13\n",
       "tol_con  0.680000  0.110000  0.210000  1.00"
      ]
     },
     "execution_count": 25,
     "metadata": {},
     "output_type": "execute_result"
    }
   ],
   "source": [
    "table_row = table.div(table[\"tol_pred\"], axis=0)\n",
    "del table_row[\"tol_pred\"]\n",
    "table_row[\"ri\"] = table_pro.tol_pred\n",
    "\n",
    "print(\"The row profiles\")\n",
    "table_row"
   ]
  },
  {
   "cell_type": "code",
   "execution_count": 26,
   "metadata": {
    "collapsed": false
   },
   "outputs": [
    {
     "data": {
      "image/png": "[encoded data removed]",
      "text/plain": [
       "<matplotlib.figure.Figure at 0x110e9e9b0>"
      ]
     },
     "metadata": {},
     "output_type": "display_data"
    }
   ],
   "source": [
    "fig = plt.figure()\n",
    "ax = fig.add_subplot(111, projection = '3d')\n",
    "ax.set_xlabel('con1')\n",
    "ax.set_ylabel('con2')\n",
    "ax.set_zlabel('con3')\n",
    "ax.scatter(table_row.con1, table_row.con2, table_row.con3, c = 'b', marker = 'o')\n",
    "angle = 60\n",
    "ax.view_init(30, angle)\n",
    "\n",
    "plt.title(\"3D Plot of Row Profiles\")\n",
    "plt.show()"
   ]
  },
  {
   "cell_type": "code",
   "execution_count": 28,
   "metadata": {
    "collapsed": false
   },
   "outputs": [
    {
     "data": {
      "image/png": "[encoded data removed]",
      "text/plain": [
       "<matplotlib.figure.Figure at 0x111378be0>"
      ]
     },
     "metadata": {},
     "output_type": "display_data"
    }
   ],
   "source": [
    "class CA(object):\n",
    "    \"\"\"Simple corresondence analysis.\n",
    "    \n",
    "    Inputs\n",
    "    ------\n",
    "    ct : array_like\n",
    "      Two-way contingency table. If `ct` is a pandas DataFrame object,\n",
    "      the index and column values are used for plotting.\n",
    "    \"\"\"\n",
    "\n",
    "    def __init__(self, ct):\n",
    "        self.rows = ct.index.values if hasattr(ct, 'index') else None\n",
    "        self.cols = ct.columns.values if hasattr(ct, 'columns') else None\n",
    "        \n",
    "        # contingency table\n",
    "        N = np.matrix(ct, dtype=float)\n",
    "\n",
    "        # correspondence matrix from contingency table\n",
    "        P = N / N.sum()\n",
    "\n",
    "        # row and column marginal totals of P as vectors\n",
    "        r = P.sum(axis=1)\n",
    "        c = P.sum(axis=0).T\n",
    "\n",
    "        # diagonal matrices of row/column sums\n",
    "        D_r_rsq = np.diag(1. / np.sqrt(r.A1))\n",
    "        D_c_rsq = np.diag(1. / np.sqrt(c.A1))\n",
    "\n",
    "        # the matrix of standarized residuals\n",
    "        S = D_r_rsq * (P - r * c.T) * D_c_rsq\n",
    "\n",
    "        # compute the SVD\n",
    "        U, D_a, V = svd(S, full_matrices=False)\n",
    "        D_a = np.asmatrix(np.diag(D_a))\n",
    "        V = V.T\n",
    "\n",
    "        # principal coordinates of rows ############################\n",
    "        F = D_r_rsq * U * D_a\n",
    "\n",
    "        # principal coordinates of columns\n",
    "        G = D_c_rsq * V * D_a\n",
    "\n",
    "        # standard coordinates of rows\n",
    "        X = D_r_rsq * U\n",
    "\n",
    "        # standard coordinates of columns ##########################\n",
    "        Y = D_c_rsq * V\n",
    "\n",
    "        # the total variance of the data matrix\n",
    "        inertia = sum([(P[i,j] - r[i,0] * c[j,0])**2 / (r[i,0] * c[j,0])\n",
    "                       for i in range(N.shape[0])\n",
    "                       for j in range(N.shape[1])])\n",
    "\n",
    "        self.F = F.A\n",
    "        self.G = G.A\n",
    "        self.X = X.A\n",
    "        self.Y = Y.A\n",
    "        self.inertia = inertia\n",
    "        self.eigenvals = np.diag(D_a)**2\n",
    "\n",
    "    def plot(self):\n",
    "        \"\"\"Plot the first and second dimensions.\"\"\"\n",
    "        xmin, xmax = None, None\n",
    "        ymin, ymax = None, None\n",
    "        if self.rows is not None:\n",
    "            for i, t in enumerate(self.rows):\n",
    "                x, y = self.F[i,0], self.F[i,1]\n",
    "                plt.text(x, y, t, va='center', ha='center', color='r')\n",
    "                xmin = min(x, xmin if xmin else x)\n",
    "                xmax = max(x, xmax if xmax else x)\n",
    "                ymin = min(y, ymin if ymin else y)\n",
    "                ymax = max(y, ymax if ymax else y)\n",
    "        else:\n",
    "            plt.plot(self.F[:, 0], self.F[:, 1], 'ro')\n",
    "\n",
    "        if self.cols is not None:\n",
    "            for i, t in enumerate(self.cols):\n",
    "                x, y = self.Y[i,0], self.Y[i,1]\n",
    "                plt.text(x, y, t, va='center', ha='center', color='b')\n",
    "                xmin = min(x, xmin if xmin else x)\n",
    "                xmax = max(x, xmax if xmax else x)\n",
    "                ymin = min(y, ymin if ymin else y)\n",
    "                ymax = max(y, ymax if ymax else y)\n",
    "        else:\n",
    "            plt.plot(self.Y[:, 0], self.y[:, 1], 'bs')\n",
    "\n",
    "        if xmin and xmax:\n",
    "            pad = (xmax - xmin) * 0.1\n",
    "            plt.xlim(xmin - pad, xmax + pad)\n",
    "        if ymin and ymax:\n",
    "            pad = (ymax - ymin) * 0.1\n",
    "            plt.ylim(ymin - pad, ymax + pad)\n",
    "\n",
    "        plt.grid()\n",
    "        plt.xlabel('Dim 1')\n",
    "        plt.ylabel('Dim 2')\n",
    "\n",
    "def _test():\n",
    "    import pandas as pd\n",
    "\n",
    "    df = pd.read_csv(\"cluster.csv\", sep = \",\")\n",
    "    del df[\"Unnamed: 0\"]\n",
    "    table = pd.crosstab(index = df[\"clu\"], columns = df[\"control\"], margins = False)\n",
    "    table.columns = [\"con1\",\"con2\",\"con3\"]#,\"tol_pred\"]\n",
    "    table.index= [\"clu1\",\"clu2\",\"clu3\",\"clu4\",\"clu5\"]#,\"tol_con\"]\n",
    "\n",
    "    ca = CA(table)\n",
    "\n",
    "    plt.figure(100)\n",
    "    ca.plot()\n",
    "\n",
    "    plt.title(\"CA Map\")\n",
    "    plt.show()\n",
    "    \n",
    "if __name__ == '__main__':\n",
    "    _test()"
   ]
  },
  {
   "cell_type": "code",
   "execution_count": null,
   "metadata": {
    "collapsed": true
   },
   "outputs": [],
   "source": []
  }
 ],
 "metadata": {
  "kernelspec": {
   "display_name": "Python 3",
   "language": "python",
   "name": "python3"
  },
  "language_info": {
   "codemirror_mode": {
    "name": "ipython",
    "version": 3
   },
   "file_extension": ".py",
   "mimetype": "text/x-python",
   "name": "python",
   "nbconvert_exporter": "python",
   "pygments_lexer": "ipython3",
   "version": "3.6.0"
  }
 },
 "nbformat": 4,
 "nbformat_minor": 2
}
