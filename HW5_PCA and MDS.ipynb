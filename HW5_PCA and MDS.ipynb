{
 "cells": [
  {
   "cell_type": "markdown",
   "metadata": {},
   "source": [
    "# 應用多變量分析 HW5\n",
    "## 105024519 許閔翔 MDS VS PCA"
   ]
  },
  {
   "cell_type": "code",
   "execution_count": 51,
   "metadata": {
    "collapsed": false
   },
   "outputs": [
    {
     "data": {
      "text/html": [
       "<script>jQuery(function() {if (jQuery(\"body.notebook_app\").length == 0) { jQuery(\".input_area\").toggle(); jQuery(\".prompt\").toggle();}});</script>"
      ]
     },
     "metadata": {},
     "output_type": "display_data"
    }
   ],
   "source": [
    "import IPython.core.display as di\n",
    "\n",
    "di.display_html('<script>jQuery(function() {if (jQuery(\"body.notebook_app\").length == 0) { jQuery(\".input_area\").toggle(); jQuery(\".prompt\").toggle();}});</script>', raw=True)\n"
   ]
  },
  {
   "cell_type": "code",
   "execution_count": 1,
   "metadata": {
    "collapsed": true
   },
   "outputs": [],
   "source": [
    "import numpy as np\n",
    "import pandas as pd\n",
    "import matplotlib.pyplot as plt\n",
    "import plotly.plotly as py\n",
    "from matplotlib.mlab import PCA\n",
    "from sklearn.preprocessing import StandardScaler\n",
    "from scipy.spatial import distance\n"
   ]
  },
  {
   "cell_type": "code",
   "execution_count": 2,
   "metadata": {
    "collapsed": true
   },
   "outputs": [],
   "source": [
    "def plot_data(data, labels, filename):\n",
    "    plt.figure(figsize=(8,6))\n",
    "    plt.scatter(data[:,0], data[:,1], c=[\"w\" for _ in labels])\n",
    "    for d, l in zip(data,labels):\n",
    "        plt.text(d[0], d[1], str(l), fontdict={\"size\":12, \"color\":cm.Paired(1)})\n",
    "    plt.title(filename)\n",
    "    plt.show()"
   ]
  },
  {
   "cell_type": "markdown",
   "metadata": {},
   "source": [
    "# Import data"
   ]
  },
  {
   "cell_type": "code",
   "execution_count": 3,
   "metadata": {
    "collapsed": false
   },
   "outputs": [
    {
     "name": "stdout",
     "output_type": "stream",
     "text": [
      "\n",
      " Size of original data: \n",
      "7703\n",
      "\n",
      " Size of dropna data: \n",
      "2637\n"
     ]
    }
   ],
   "source": [
    "df_original = pd.read_csv('anova.csv')\n",
    "column_name = [\"PREDDEG\", \"HIGHDEG\", \"CONTROL\", \n",
    "               \"ST_FIPS\", \"REGION\", \"LATITUDE\", \"LONGITUDE\",\n",
    "               \"UGDS\", 'UGDS_WHITE', 'UGDS_BLACK', 'UGDS_HISP', 'UGDS_ASIAN', 'UGDS_AIAN', 'UGDS_NHPI',\n",
    "               'DEP_STAT_PCT_IND', 'IND_INC_PCT_LO', 'DEP_INC_PCT_LO', 'INC_PCT_M1', 'INC_PCT_M2', \n",
    "               'INC_PCT_H1', 'INC_PCT_H2', \n",
    "               'PAR_ED_PCT_MS', 'PAR_ED_PCT_HS', 'PAR_ED_PCT_PS',\n",
    "               'FEMALE', 'MARRIED', 'DEPENDENT', 'VETERAN', 'UGDS_MEN', 'UGDS_WOMEN']\n",
    "\n",
    "df = df_original[column_name]\n",
    "del df[\"PAR_ED_PCT_MS\"]\n",
    "print('\\n Size of original data: \\n%s' % df.shape[0])\n",
    "df = df.dropna(axis = 0)\n",
    "print('\\n Size of dropna data: \\n%s' % df.shape[0])"
   ]
  },
  {
   "cell_type": "code",
   "execution_count": 14,
   "metadata": {
    "collapsed": false
   },
   "outputs": [
    {
     "name": "stdout",
     "output_type": "stream",
     "text": [
      "standardize numerical data : Z\n"
     ]
    }
   ],
   "source": [
    "### categoricl and numerical varibles\n",
    "### standarize numerical varibles(Z)\n",
    "\n",
    "X1 = df.iloc[:100, :7]\n",
    "X2 = df.iloc[:100, 7:]\n",
    "sc = StandardScaler()\n",
    "Z = pd.DataFrame(sc.fit_transform(X2))\n",
    "print(\"standardize numerical data : Z\")"
   ]
  },
  {
   "cell_type": "markdown",
   "metadata": {},
   "source": [
    "# PCA"
   ]
  },
  {
   "cell_type": "code",
   "execution_count": 6,
   "metadata": {
    "collapsed": false
   },
   "outputs": [],
   "source": [
    "C = np.dot(Z.T, Z) / df.shape[0]\n",
    "eigen_vals, eigen_vecs = np.linalg.eigh(C)\n",
    "\n",
    "eigen_pairs = [(np.abs(eigen_vals[i]), eigen_vecs[:,i]) for i in range(len(eigen_vals))]\n",
    "# Sort the (eigenvalue, eigenvector) tuples from high to low\n",
    "eigen_pairs.sort(reverse=True)\n",
    "\n",
    "# calculate projection matrix\n",
    "P = np.hstack((eigen_pairs[0][1][:, np.newaxis],\n",
    "               eigen_pairs[1][1][:, np.newaxis]))\n",
    "\n",
    "Z_pca = pd.DataFrame(Z.dot(P))\n",
    "data_cat = df.iloc[:100,:7]\n",
    "result_pca = pd.DataFrame(np.hstack([ data_cat, Z_pca ]))\n",
    "result_pca.columns = [\"PREDDEG\", \"HIGHDEG\", \"CONTROL\", \n",
    "                  \"ST_FIPS\", \"REGION\", \"LATITUDE\", \"LONGITUDE\", \n",
    "                  \"com1\", \"com2\"]"
   ]
  },
  {
   "cell_type": "code",
   "execution_count": 9,
   "metadata": {
    "collapsed": false
   },
   "outputs": [
    {
     "data": {
      "image/png": "[encoded data removed]",
      "text/plain": [
       "<matplotlib.figure.Figure at 0x11bac39e8>"
      ]
     },
     "metadata": {},
     "output_type": "display_data"
    }
   ],
   "source": [
    "fig, ax = plt.subplots()\n",
    "\n",
    "# 先畫出原本散佈圖的點。\n",
    "data_1 = np.array(result_pca[result_pca.CONTROL == 1])\n",
    "data_2 = np.array(result_pca[result_pca.CONTROL == 2])\n",
    "data_3 = np.array(result_pca[result_pca.CONTROL == 3])\n",
    "ax.scatter(data_1[:, [7]], data_1[:, [8]], color='r', marker='^', alpha=.8)\n",
    "ax.scatter(data_2[:, [7]], data_2[:, [8]], color='b', alpha=.8)\n",
    "ax.scatter(data_3[:, [7]], data_3[:, [8]], color='g', marker='s', alpha=.8)\n",
    "ax.autoscale()\n",
    "\n",
    "plt.title('PCA')\n",
    "plt.show()"
   ]
  },
  {
   "cell_type": "markdown",
   "metadata": {},
   "source": [
    "# MDS plot"
   ]
  },
  {
   "cell_type": "code",
   "execution_count": 10,
   "metadata": {
    "collapsed": false
   },
   "outputs": [],
   "source": [
    "def cmdscale(D):\n",
    "    # Number of points                                                                        \n",
    "    n = len(D)\n",
    " \n",
    "    # Centering matrix                                                                        \n",
    "    H = np.eye(n) - np.ones((n, n))/n\n",
    " \n",
    "    # YY^T                                                                                    \n",
    "    B = -H.dot(D**2).dot(H)/2\n",
    " \n",
    "    # Diagonalize                                                                             \n",
    "    evals, evecs = np.linalg.eigh(B)\n",
    " \n",
    "    # Sort by eigenvalue in descending order                                                  \n",
    "    idx   = np.argsort(evals)[::-1]\n",
    "    evals = evals[idx]\n",
    "    evecs = evecs[:,idx]\n",
    " \n",
    "    # Compute the coordinates using positive-eigenvalued components only                      \n",
    "    w, = np.where(evals > 0)\n",
    "    L  = np.diag(np.sqrt(evals[w]))\n",
    "    V  = evecs[:,w]\n",
    "    Y  = V.dot(L)\n",
    " \n",
    "    return Y, evals"
   ]
  },
  {
   "cell_type": "markdown",
   "metadata": {},
   "source": [
    "### 1. Metric MDS plot euclidean_distance"
   ]
  },
  {
   "cell_type": "code",
   "execution_count": 21,
   "metadata": {
    "collapsed": false
   },
   "outputs": [
    {
     "data": {
      "image/png": "[encoded data removed]",
      "text/plain": [
       "<matplotlib.figure.Figure at 0x11bd689b0>"
      ]
     },
     "metadata": {},
     "output_type": "display_data"
    }
   ],
   "source": [
    "from sklearn.metrics.pairwise import pairwise_distances\n",
    "\n",
    "### MDS euclidean_distance\n",
    "metric_e = pairwise_distances(Z, Y=None, metric='euclidean', n_jobs=1)\n",
    "mds_all = cmdscale(metric_e)\n",
    "\n",
    "mds_e = np.hstack((mds_all[0][:, 0].reshape(100, 1), mds_all[0][:, 1].reshape(100, 1)))\n",
    "plt.scatter(mds_all[0][:, 0], mds_all[0][:, 1], c='r', cmap=plt.cm.Spectral)\n",
    "plt.title(\"MDS euclidean_distance\")\n",
    "plt.axis('tight')\n",
    "plt.show()"
   ]
  },
  {
   "cell_type": "markdown",
   "metadata": {},
   "source": [
    "### 2. Metric MDS plot 1-correlation"
   ]
  },
  {
   "cell_type": "code",
   "execution_count": 18,
   "metadata": {
    "collapsed": false
   },
   "outputs": [
    {
     "data": {
      "image/png": "[encoded data removed]",
      "text/plain": [
       "<matplotlib.figure.Figure at 0x11bb825f8>"
      ]
     },
     "metadata": {},
     "output_type": "display_data"
    }
   ],
   "source": [
    "from sklearn import manifold\n",
    "\n",
    "seed = np.random.RandomState(seed=1)\n",
    "mds = manifold.MDS(n_components=2, metric=True, n_init=4, max_iter=300,\n",
    "                   verbose=0, eps=0.001, n_jobs=1, random_state=seed, dissimilarity='precomputed')\n",
    "\n",
    "metric_c = distance.cdist(Z, Z, 'correlation')\n",
    "mds_c = mds.fit_transform(metric_c)\n",
    "\n",
    "plt.scatter(mds_c[:, 0], mds_c[:, 1], c='b', cmap=plt.cm.Spectral)\n",
    "plt.title(\"MDS 1-correlation\")\n",
    "plt.axis('tight')\n",
    "plt.show()"
   ]
  },
  {
   "cell_type": "markdown",
   "metadata": {},
   "source": [
    "### 3. Non-metric MDS plot euclidean_distance"
   ]
  },
  {
   "cell_type": "code",
   "execution_count": 20,
   "metadata": {
    "collapsed": false
   },
   "outputs": [
    {
     "name": "stderr",
     "output_type": "stream",
     "text": [
      "/Users/Shawn/anaconda/lib/python3.6/site-packages/sklearn/manifold/mds.py:238: UserWarning:\n",
      "\n",
      "Explicit initial positions passed: performing only one init of the MDS instead of 4\n",
      "\n"
     ]
    },
    {
     "data": {
      "image/png": "[encoded data removed]",
      "text/plain": [
       "<matplotlib.figure.Figure at 0x11bc01470>"
      ]
     },
     "metadata": {},
     "output_type": "display_data"
    }
   ],
   "source": [
    "seed = np.random.RandomState(seed=1)\n",
    "mds_not = manifold.MDS(n_components=2, metric=False, n_init=4, max_iter=100, \n",
    "                       verbose=0, eps=0.001, n_jobs=1, random_state=seed, dissimilarity='precomputed')\n",
    "\n",
    "metric_e = pairwise_distances(Z, Y=None, metric='euclidean', n_jobs=1)\n",
    "mds_e_not = mds_not.fit_transform(metric_e, init = mds_e)\n",
    "\n",
    "plt.scatter(mds_e_not[:, 0], mds_e_not[:, 1], c='r', cmap=plt.cm.Spectral)\n",
    "plt.title(\"MDS non-metric euclidean_distance\")\n",
    "plt.axis('tight')\n",
    "plt.show()"
   ]
  },
  {
   "cell_type": "markdown",
   "metadata": {},
   "source": [
    "### 4. Non-metric MDS plot 1-correlation"
   ]
  },
  {
   "cell_type": "code",
   "execution_count": 63,
   "metadata": {
    "collapsed": false
   },
   "outputs": [
    {
     "data": {
      "image/png": "[encoded data removed]",
      "text/plain": [
       "<matplotlib.figure.Figure at 0x113ae6950>"
      ]
     },
     "metadata": {},
     "output_type": "display_data"
    }
   ],
   "source": [
    "metric_c = distance.cdist(Z, Z, 'correlation')\n",
    "mds_c_not = mds_not.fit_transform(metric_c, init = mds_c)\n",
    "\n",
    "plt.scatter(mds_c_not[:, 0], mds_c_not[:, 1], c='b', cmap=plt.cm.Spectral)\n",
    "plt.title(\"MDS non-metric 1-correlation\")\n",
    "plt.axis('tight')\n",
    "plt.show()"
   ]
  },
  {
   "cell_type": "code",
   "execution_count": null,
   "metadata": {
    "collapsed": false
   },
   "outputs": [],
   "source": []
  },
  {
   "cell_type": "code",
   "execution_count": null,
   "metadata": {
    "collapsed": true
   },
   "outputs": [],
   "source": []
  }
 ],
 "metadata": {
  "kernelspec": {
   "display_name": "Python 3",
   "language": "python",
   "name": "python3"
  },
  "language_info": {
   "codemirror_mode": {
    "name": "ipython",
    "version": 3
   },
   "file_extension": ".py",
   "mimetype": "text/x-python",
   "name": "python",
   "nbconvert_exporter": "python",
   "pygments_lexer": "ipython3",
   "version": "3.6.0"
  }
 },
 "nbformat": 4,
 "nbformat_minor": 2
}
